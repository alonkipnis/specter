{
 "cells": [
  {
   "cell_type": "code",
   "execution_count": 1,
   "metadata": {},
   "outputs": [],
   "source": [
    "import subprocess\n",
    "import argparse\n",
    "import logging\n",
    "logging.basicConfig(level=logging.INFO)"
   ]
  },
  {
   "cell_type": "code",
   "execution_count": 8,
   "metadata": {},
   "outputs": [],
   "source": [
    "def embed(ids, model, metadata, output_file, cuda_device=0, batch_size=1, vocab_dir='data/vocab',\n",
    "          included_text_fields = 'abstract title', weights_file=None\n",
    "          ):\n",
    "    \n",
    "    overrides = f\"{{'model':{{'predict_mode':'true','include_venue':'false'}},'dataset_reader':{{'type':'specter_data_reader','predict_mode':'true','paper_features_path':'{metadata}','included_text_fields': '{included_text_fields}'}},'vocabulary':{{'directory_path':'{vocab_dir}'}}}}\"\n",
    "\n",
    "    command = [\n",
    "        'python3',\n",
    "        'specter/predict_command.py',\n",
    "        'predict',\n",
    "        model,\n",
    "        ids,\n",
    "        '--include-package',\n",
    "        'specter',\n",
    "        '--predictor',\n",
    "        'specter_predictor',\n",
    "        '--overrides',\n",
    "        f'\"{overrides}\"',\n",
    "        '--cuda-device',\n",
    "        str(cuda_device),\n",
    "        '--output-file',\n",
    "        output_file,\n",
    "        '--batch-size',\n",
    "        str(batch_size),\n",
    "        '--silent'\n",
    "    ]\n",
    "    if weights_file is not None:\n",
    "        command.extend(['--weights-file', args.weights_file])\n",
    "    \n",
    "    logging.info('running command:')\n",
    "    logging.info(' '.join(command))\n",
    "    subprocess.run(' '.join(command), shell=True)"
   ]
  },
  {
   "cell_type": "code",
   "execution_count": 9,
   "metadata": {},
   "outputs": [
    {
     "name": "stderr",
     "output_type": "stream",
     "text": [
      "INFO:root:running command:\n",
      "INFO:root:python3 specter/predict_command.py predict ../model.tar.gz ../data/my_training/test.txt --include-package specter --predictor specter_predictor --overrides \"{'model':{'predict_mode':'true','include_venue':'false'},'dataset_reader':{'type':'specter_data_reader','predict_mode':'true','paper_features_path':'../data/my_training/metadata.json','included_text_fields': 'abstract title'},'vocabulary':{'directory_path':'../data/vocab'}}\" --cuda-device 0 --output-file ../output.jsonl --batch-size 16 --silent\n"
     ]
    }
   ],
   "source": [
    "embed(ids = '../data/my_training/test.txt', metadata='../data/my_training/metadata.json',\n",
    "      model='../model.tar.gz', output_file = '../output.jsonl', vocab_dir='../data/vocab', batch_size=16,\n",
    "      cuda_device=0)"
   ]
  },
  {
   "cell_type": "code",
   "execution_count": 10,
   "metadata": {},
   "outputs": [
    {
     "name": "stdout",
     "output_type": "stream",
     "text": [
      "LICENSE            \u001b[34mdist\u001b[m\u001b[m               \u001b[34mmodel-output\u001b[m\u001b[m       \u001b[34mspecter\u001b[m\u001b[m\r\n",
      "README.md          \u001b[34menv\u001b[m\u001b[m                model.tar.gz       \u001b[34mspecter.egg-info\u001b[m\u001b[m\r\n",
      "archive.tar.gz     \u001b[34mexperiment_configs\u001b[m\u001b[m requirements.txt   train.sh\r\n",
      "\u001b[34mbuild\u001b[m\u001b[m              files.sh           \u001b[34mscripts\u001b[m\u001b[m\r\n",
      "\u001b[34mdata\u001b[m\u001b[m               init.sh            setup.py\r\n"
     ]
    }
   ],
   "source": [
    "!ls '../'"
   ]
  },
  {
   "cell_type": "code",
   "execution_count": 14,
   "metadata": {},
   "outputs": [
    {
     "name": "stdout",
     "output_type": "stream",
     "text": [
      "/Users/kipnisal/specter/scripts\r\n"
     ]
    }
   ],
   "source": [
    "!pwd"
   ]
  },
  {
   "cell_type": "code",
   "execution_count": null,
   "metadata": {},
   "outputs": [],
   "source": []
  }
 ],
 "metadata": {
  "kernelspec": {
   "display_name": "Python 3",
   "language": "python",
   "name": "python3"
  },
  "language_info": {
   "codemirror_mode": {
    "name": "ipython",
    "version": 3
   },
   "file_extension": ".py",
   "mimetype": "text/x-python",
   "name": "python",
   "nbconvert_exporter": "python",
   "pygments_lexer": "ipython3",
   "version": "3.8.5"
  }
 },
 "nbformat": 4,
 "nbformat_minor": 4
}
